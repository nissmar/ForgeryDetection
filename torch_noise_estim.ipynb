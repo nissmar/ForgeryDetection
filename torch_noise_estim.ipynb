{
 "cells": [
  {
   "cell_type": "code",
   "execution_count": 1,
   "metadata": {},
   "outputs": [],
   "source": [
    "from PIL import Image\n",
    "import numpy as np\n",
    "import matplotlib.pyplot as plt\n",
    "import torch\n",
    "import torch.nn as nn"
   ]
  },
  {
   "cell_type": "code",
   "execution_count": 2,
   "metadata": {},
   "outputs": [],
   "source": [
    "def dct_basis(n,k1,k2):\n",
    "    x = np.array([range(n)])\n",
    "    x = 2*np.cos(np.pi*(2*x+1)*k1/2.0/n)\n",
    "    red1 = 1/np.sqrt(2) if k1==0 else 1\n",
    "\n",
    "    y = np.array([range(n)])\n",
    "    y = 2*np.cos(np.pi*(2*y+1)*k2/2.0/n)\n",
    "    red2 = 1/np.sqrt(2) if k2==0 else 1\n",
    "    \n",
    "    return np.dot(x.T,y)*red1*red2/2/n"
   ]
  },
  {
   "cell_type": "code",
   "execution_count": 3,
   "metadata": {},
   "outputs": [
    {
     "data": {
      "text/plain": [
       "[<matplotlib.lines.Line2D at 0x7ff68e4b3490>]"
      ]
     },
     "execution_count": 3,
     "metadata": {},
     "output_type": "execute_result"
    },
    {
     "data": {
      "image/png": "[encoded data removed]",
      "text/plain": [
       "<Figure size 432x288 with 1 Axes>"
      ]
     },
     "metadata": {
      "needs_background": "light"
     },
     "output_type": "display_data"
    }
   ],
   "source": [
    "class DCT_CONV(nn.Module):\n",
    "    def __init__(self, ksize=8, T=36):\n",
    "        ''' k: kernel size\n",
    "            T: number of first coefficients used'''\n",
    "        super(__class__, self).__init__()\n",
    "\n",
    "        dtype = torch.FloatTensor\n",
    "        if torch.cuda.is_available():  dtype = torch.cuda.FloatTensor\n",
    "        self.ksize=ksize\n",
    "        ch = ksize**2\n",
    "\n",
    "        self.T = T\n",
    "\n",
    "        self.padding = nn.ReflectionPad2d(2*ksize//2-1)\n",
    "\n",
    "        self.conv_in = nn.Conv2d(in_channels=1, out_channels= ch,\n",
    "                                    kernel_size=ksize, stride=1,\n",
    "                                    padding=0, bias=False)\n",
    "\n",
    "        indices = [(i%ksize,i//ksize) for i in range(ch)]\n",
    "        indices.sort(key=lambda e: e[0]+e[1])\n",
    "        for ind,i in zip(indices,range(ch)):         \n",
    "            a1 = dct_basis(ksize,ind[0],ind[1])\n",
    "            self.conv_in.weight.data[i,0,:,:] = nn.Parameter(dtype(a1))\n",
    "\n",
    "    def forward(self, x):\n",
    "        out = self.conv_in(self.padding(x[None,None,:]))\n",
    "        return out[0]\n",
    "\n",
    "    def mean_dct(self, output):\n",
    "        '''mean of the output'''\n",
    "        return output[0, :, :]/self.ksize\n",
    "\n",
    "    def lowfreq_var(self,output):\n",
    "        '''low_frequency variance'''\n",
    "        low_freq = output[1:self.T, :, :]**2 # exclude mean\n",
    "        low_freq = torch.sum(low_freq,dim=0)/(self.T-1)\n",
    "        return low_freq\n",
    "\n",
    "    def noise_var(self, output, mean_dct, lowfreq_var, low_val, high_val, f_var=0.01):\n",
    "        '''returns relevant noise variance when image value is between low_val and high_val\n",
    "            f_var: fractions used to estimate noise'''\n",
    "        # select image values between low_val and high_val\n",
    "        mean_mask = (mean_dct<high_val)*(mean_dct>=low_val) \n",
    "\n",
    "        # Select small low_frequency variances (~uniform patches)\n",
    "        lowf_variances = torch.masked_select(lowfreq_var, mean_mask) \n",
    "        if lowf_variances.size()[0]==0:\n",
    "            return torch.tensor([]),torch.tensor([])\n",
    "        tresh = torch.quantile(lowf_variances,f_var)\n",
    "        lowf_mask = (lowfreq_var<tresh)*mean_mask\n",
    "\n",
    "        # mask the corresponding pixels\n",
    "        high_freq = (output[self.T:]*lowf_mask)**2\n",
    "        high_freq = torch.sum(high_freq, dim=(1,2))/torch.sum(lowf_mask) # mean of the variances [ksize**2 - T] vector\n",
    "        return torch.median(high_freq)\n",
    "\n",
    "    def image_variance_hist(self, x, e_per_bin=40000, f_var=0.01):\n",
    "        ''' input: [H,W] tensor\n",
    "            output: variance histogram'''\n",
    "\n",
    "        # compute DCT transforms, dim [ksize**2, H, W]\n",
    "        output = self.forward(x)\n",
    "\n",
    "        # compute image mean values \n",
    "        mean_dct = self.mean_dct(output) # dim [H, W]\n",
    "        mean_list = mean_dct.flatten().sort()[0]\n",
    "\n",
    "        # compute lowfreq_var\n",
    "        lowfreq_var = self.lowfreq_var(output) # dim [H, W]\n",
    "\n",
    "        Lmeans=[]\n",
    "        Lvars=[]\n",
    "        for index in range(0, len(mean_list), e_per_bin):\n",
    "            low_val = mean_list[index]\n",
    "            high_val = mean_list[min(index+e_per_bin,len(mean_list)-1)]\n",
    "            Lmeans.append( (high_val+low_val).item()/2)\n",
    "            Lvars.append(self.noise_var(output,mean_dct, lowfreq_var,low_val,high_val, f_var).item())\n",
    "        return Lmeans,Lvars\n",
    "        \n",
    "\n",
    "    def show_net(self):\n",
    "        out_img = np.zeros((self.ksize**2,self.ksize**2))\n",
    "        for i in range(self.ksize**2):\n",
    "            x = i//self.ksize\n",
    "            y = i%self.ksize\n",
    "            out_img[x*self.ksize:(x+1)*self.ksize,y*self.ksize:(y+1)*self.ksize]=self.conv_in.weight.data[i,0,:,:] \n",
    "        plt.imshow(out_img)\n",
    "        plt.show()\n",
    "\n",
    "%matplotlib inline\n",
    "\n",
    "M = DCT_CONV(ksize=8)\n",
    "# M.show_net()\n",
    "im = np.array(Image.open(\"forged_images/cyg.png\"))\n",
    "im = np.array(im).mean(axis=2) # convert to bw\n",
    "im = torch.FloatTensor(im)\n",
    "\n",
    "Lm,Lv= M.image_variance_hist(im, e_per_bin=40000, f_var=0.005)\n",
    "plt.plot(Lm,Lv,'o-')\n"
   ]
  },
  {
   "cell_type": "code",
   "execution_count": 4,
   "metadata": {},
   "outputs": [
    {
     "data": {
      "text/plain": [
       "[<matplotlib.lines.Line2D at 0x7ff68e6f0280>]"
      ]
     },
     "execution_count": 4,
     "metadata": {},
     "output_type": "execute_result"
    },
    {
     "data": {
      "image/png": "[encoded data removed]",
      "text/plain": [
       "<Figure size 432x288 with 1 Axes>"
      ]
     },
     "metadata": {
      "needs_background": "light"
     },
     "output_type": "display_data"
    }
   ],
   "source": [
    "Lm,Lv= M.image_variance_hist(im, e_per_bin=40000, f_var=0.005)\n",
    "plt.plot(Lm,Lv,'o-')\n",
    "Lm2,Lv2= M.image_variance_hist(im[100:180,120:190], e_per_bin=20000, f_var=0.005)\n",
    "plt.plot(Lm2,Lv2,'o-')"
   ]
  },
  {
   "cell_type": "code",
   "execution_count": null,
   "metadata": {},
   "outputs": [],
   "source": []
  }
 ],
 "metadata": {
  "interpreter": {
   "hash": "a4f2bd6e9be05c5a1f17b9a3372a62e1dd3c7b06f2614de41bfc93cb39f1858b"
  },
  "kernelspec": {
   "display_name": "Python 3.9.7 64-bit ('objrec': conda)",
   "language": "python",
   "name": "python3"
  },
  "language_info": {
   "codemirror_mode": {
    "name": "ipython",
    "version": 3
   },
   "file_extension": ".py",
   "mimetype": "text/x-python",
   "name": "python",
   "nbconvert_exporter": "python",
   "pygments_lexer": "ipython3",
   "version": "3.9.7"
  },
  "orig_nbformat": 4
 },
 "nbformat": 4,
 "nbformat_minor": 2
}
