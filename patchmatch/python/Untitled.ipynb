{
 "cells": [
  {
   "cell_type": "code",
   "execution_count": 11,
   "id": "878c4269",
   "metadata": {},
   "outputs": [],
   "source": [
    "import numpy as np\n",
    "import scipy.ndimage.filters as nd_filters\n",
    "\n",
    "\n",
    "class OFilter:\n",
    "    def __init__(self, order, mask_size, mode='symmetric'):\n",
    "        self.order = order\n",
    "        self.mask_size = mask_size\n",
    "        self.mode = mode\n",
    "        \n",
    "    def local_filter(self, x):\n",
    "        x.sort()\n",
    "        return x[self.order]\n",
    "\n",
    "    def ordfilt2(self, A):\n",
    "        return nd_filters.generic_filter(A, self.local_filter, size=(self.mask_size, self.mask_size))"
   ]
  },
  {
   "cell_type": "code",
   "execution_count": 20,
   "id": "f482139e",
   "metadata": {},
   "outputs": [
    {
     "name": "stdout",
     "output_type": "stream",
     "text": [
      "[[0.84530817 0.84530817 0.79378528 0.776688  ]\n",
      " [1.84530817 1.79378528 1.776688   1.20166994]\n",
      " [1.12278887 1.12278887 1.59674506 1.37469955]\n",
      " [1.98051769 1.82292673 1.40707693 1.21811185]]\n"
     ]
    }
   ],
   "source": [
    "mpf_y = np.random.rand((3*4)).reshape(3,4)\n",
    "mpf_y = np.array([\n",
    "    [0.84530817, 0.79378528, 0.776688, 0.20166994],\n",
    "     [0.12278887, 0.59674506, 0.83779851, 0.37469955],\n",
    "     [0.98051769, 0.82292673, 0.40707693, 0.21811185],\n",
    "     [0.98051769, 0.82292673, 0.40707693, 0.21811185]\n",
    "])\n",
    "NN_med=2\n",
    "DD_med=2\n",
    "Nr, Nc = mpf_y.shape\n",
    "xp, yp = np.meshgrid(np.arange(Nc),np.arange(Nr))\n",
    "F = OFilter(NN_med,DD_med,mode ='symmetric')\n",
    "mpf_y = F.ordfilt2(mpf_y-yp) + yp\n",
    "print(mpf_y)\n"
   ]
  },
  {
   "cell_type": "code",
   "execution_count": 26,
   "id": "b5d7b487",
   "metadata": {},
   "outputs": [
    {
     "data": {
      "text/plain": [
       "array([[0, 0, 0, 1, 0, 0],\n",
       "       [0, 1, 1, 1, 1, 1],\n",
       "       [1, 1, 1, 1, 1, 1],\n",
       "       [1, 1, 1, 1, 1, 1],\n",
       "       [1, 1, 1, 1, 1, 1],\n",
       "       [0, 1, 1, 1, 1, 1]], dtype=uint8)"
      ]
     },
     "execution_count": 26,
     "metadata": {},
     "output_type": "execute_result"
    }
   ],
   "source": [
    "import cv2\n",
    "cv2.getStructuringElement(cv2.MORPH_ELLIPSE,(6,6))"
   ]
  },
  {
   "cell_type": "code",
   "execution_count": 27,
   "id": "d802ba53",
   "metadata": {},
   "outputs": [
    {
     "ename": "ModuleNotFoundError",
     "evalue": "No module named 'matlab'",
     "output_type": "error",
     "traceback": [
      "\u001b[1;31m---------------------------------------------------------------------------\u001b[0m",
      "\u001b[1;31mModuleNotFoundError\u001b[0m                       Traceback (most recent call last)",
      "\u001b[1;32m~\\AppData\\Local\\Temp/ipykernel_26696/3980409598.py\u001b[0m in \u001b[0;36m<module>\u001b[1;34m\u001b[0m\n\u001b[1;32m----> 1\u001b[1;33m \u001b[1;32mimport\u001b[0m \u001b[0mmatlab\u001b[0m\u001b[1;33m\u001b[0m\u001b[1;33m\u001b[0m\u001b[0m\n\u001b[0m",
      "\u001b[1;31mModuleNotFoundError\u001b[0m: No module named 'matlab'"
     ]
    }
   ],
   "source": [
    "import matlab"
   ]
  }
 ],
 "metadata": {
  "kernelspec": {
   "display_name": "Python 3 (ipykernel)",
   "language": "python",
   "name": "python3"
  },
  "language_info": {
   "codemirror_mode": {
    "name": "ipython",
    "version": 3
   },
   "file_extension": ".py",
   "mimetype": "text/x-python",
   "name": "python",
   "nbconvert_exporter": "python",
   "pygments_lexer": "ipython3",
   "version": "3.7.9"
  }
 },
 "nbformat": 4,
 "nbformat_minor": 5
}
